{
 "cells": [
  {
   "cell_type": "markdown",
   "id": "5c4c111c-a8dc-4252-ba6d-34c2ea0deaf4",
   "metadata": {},
   "source": [
    "## 1 . Две суммы \n",
    "\n",
    "Учитывая массив целых чисел numsи целое число target, вернуть индексы двух чисел, в сумме они равны target.\n",
    "\n",
    "Вы можете предположить, что каждый вход будет иметь ровно одно решение , и вы не можете использовать один и тот же элемент дважды.\n",
    "\n",
    "Вы можете вернуть ответ в любом порядке\n",
    "\n",
    "    Ввод: nums = [2,7,11,15], target = 9. \n",
    "    Выход: [0,1] \n",
    "    Вывод: Поскольку nums [0] + nums [1] == 9, мы возвращаем [0, 1]. "
   ]
  },
  {
   "cell_type": "code",
   "execution_count": 19,
   "id": "7718db75-d35f-4816-b509-f5a5631c9791",
   "metadata": {},
   "outputs": [],
   "source": [
    "test_data = [{'nums':[2,7,11,15], 'target' : 9, 'true' : [0, 1]},\n",
    "            {'nums':[3,2,4], 'target' : 6, 'true' : [1, 2]},\n",
    "            {'nums':[-3,4,3,90], 'target' : 0, 'true' : [0, 2]},]"
   ]
  },
  {
   "cell_type": "code",
   "execution_count": 55,
   "id": "fce8b965-2375-4b7e-a5a5-43f5b380d6c4",
   "metadata": {},
   "outputs": [],
   "source": [
    "# Брут форс решение\n",
    "class Solution_1(object):\n",
    "    def twoSum(self, nums, target):\n",
    "        for i_1 in range(len(nums)):\n",
    "            for i_2 in range(len(nums)):\n",
    "                if i_1 != i_2:\n",
    "                    if nums[i_1] + nums[i_2] == target:\n",
    "                        return [i_1, i_2]\n",
    "# yield\n",
    "class Solution_2(object):\n",
    "    def twoSum(self, nums, target):\n",
    "        for i in list(self.get_gen(nums)):\n",
    "            if sum([nums[i[0]], nums[i[1]]]) == target:\n",
    "                return i  \n",
    "    \n",
    "    def get_gen(self, nums):\n",
    "        indexs_num = range(len(nums))\n",
    "        for index_1 in indexs_num:\n",
    "            for index_2 in indexs_num:\n",
    "                if index_1 == index_2: continue\n",
    "                yield [index_1, index_2]\n",
    "                \n",
    "                \n",
    "class Solution_3(object):\n",
    "    def twoSum(self, nums, target):                \n",
    "        for i_1 in range(len(nums)):\n",
    "            for i_2 in range(i_1 + 1, len(nums)):\n",
    "                if nums[i_1] + nums[i_2] == target:\n",
    "                    return [i_1, i_2]\n"
   ]
  },
  {
   "cell_type": "code",
   "execution_count": 56,
   "id": "33c5c80d-63a4-4035-bf8c-f2e6b8ecd0bd",
   "metadata": {},
   "outputs": [
    {
     "name": "stdout",
     "output_type": "stream",
     "text": [
      "[2, 7, 11, 15] 9\n",
      "[0, 1]\n",
      "True\n",
      "==============================\n",
      "[3, 2, 4] 6\n",
      "[1, 2]\n",
      "True\n",
      "==============================\n",
      "[-3, 4, 3, 90] 0\n",
      "[0, 2]\n",
      "True\n",
      "==============================\n"
     ]
    }
   ],
   "source": [
    "ob = Solution_3()\n",
    "for exempl in test_data:\n",
    "    print(exempl['nums'], exempl['target'])\n",
    "    otv = ob.twoSum(exempl['nums'], exempl['target'])\n",
    "    print(otv)\n",
    "    if otv == exempl['true']:\n",
    "        print(True)\n",
    "    else:\n",
    "        print(exempl['true'])\n",
    "        print(False)\n",
    "    print('='*30)"
   ]
  },
  {
   "cell_type": "markdown",
   "id": "9ab72fd4-eabb-4b0f-877b-25d240d5269b",
   "metadata": {},
   "source": [
    "## 2 . Сложить два числа\n",
    "\n",
    "Вам даны два непустых связанных списка, представляющих два неотрицательных целых числа. Цифры хранятся в обратном порядке , и каждый из их узлов содержит одну цифру. Сложите два числа и верните сумму в виде связанного списка.\n",
    "\n",
    "Вы можете предположить, что эти два числа не содержат нуля в начале, кроме самого числа 0. \n",
    "\n",
    "    Ввод: l1 = [2,4,3], l2 = [5,6,4] \n",
    "    Выход: [7,0,8] \n",
    "    Пояснение: 342 + 465 = 807. "
   ]
  },
  {
   "cell_type": "code",
   "execution_count": 62,
   "id": "4c2e0479-99e7-4f2f-ba6e-6781c94264aa",
   "metadata": {},
   "outputs": [],
   "source": [
    "test_data = [{'l1':[2,4,3], 'l2' : [5,6,4], 'true' : [7,0,8]},\n",
    "            {'l1':[0], 'l2' : [0], 'true' : [0]},\n",
    "             {'l1':[9,9,9,9,9,9,9], 'l2' : [9,9,9,9], 'true' : [8,9,9,9,0,0,0,1]},]"
   ]
  },
  {
   "cell_type": "code",
   "execution_count": 80,
   "id": "e7adbd21-1c0b-4091-ae12-76b6b75ac921",
   "metadata": {},
   "outputs": [],
   "source": [
    "class ListNode(object):\n",
    "    def __init__(self, val=0, next=None):\n",
    "        self.val = val\n",
    "        self.next = next\n",
    "\n",
    "\n",
    "class Solution(object):\n",
    "    def addTwoNumbers(self, l1, l2):\n",
    "        carry = 0\n",
    "        root = n = ListNode(0)\n",
    "        while l1 or l2 or carry:\n",
    "            v1 = v2 = 0\n",
    "            if l1:\n",
    "                v1 = l1.val\n",
    "                l1 = l1.next\n",
    "            if l2:\n",
    "                v2 = l2.val\n",
    "                l2 = l2.next\n",
    "            carry, val = divmod(v1+v2+carry, 10)\n",
    "            n.next = ListNode(val)\n",
    "            n = n.next\n",
    "        return root.next\n",
    "        "
   ]
  },
  {
   "cell_type": "code",
   "execution_count": 81,
   "id": "375d0dd4-ef68-4892-a0d3-ecad254ea75e",
   "metadata": {},
   "outputs": [
    {
     "name": "stdout",
     "output_type": "stream",
     "text": [
      "[2, 4, 3] [4, 6, 5]\n"
     ]
    },
    {
     "ename": "TypeError",
     "evalue": "can only concatenate list (not \"int\") to list",
     "output_type": "error",
     "traceback": [
      "\u001b[0;31m---------------------------------------------------------------------------\u001b[0m",
      "\u001b[0;31mTypeError\u001b[0m                                 Traceback (most recent call last)",
      "\u001b[0;32m/tmp/ipykernel_77165/1967340269.py\u001b[0m in \u001b[0;36m<module>\u001b[0;34m\u001b[0m\n\u001b[1;32m      6\u001b[0m     \u001b[0ml2\u001b[0m \u001b[0;34m=\u001b[0m \u001b[0mListNode\u001b[0m\u001b[0;34m(\u001b[0m\u001b[0;34m)\u001b[0m\u001b[0;34m\u001b[0m\u001b[0;34m\u001b[0m\u001b[0m\n\u001b[1;32m      7\u001b[0m     \u001b[0ml2\u001b[0m\u001b[0;34m.\u001b[0m\u001b[0mval\u001b[0m \u001b[0;34m=\u001b[0m \u001b[0mexempl\u001b[0m\u001b[0;34m[\u001b[0m\u001b[0;34m'l2'\u001b[0m\u001b[0;34m]\u001b[0m\u001b[0;34m\u001b[0m\u001b[0;34m\u001b[0m\u001b[0m\n\u001b[0;32m----> 8\u001b[0;31m     \u001b[0motv\u001b[0m \u001b[0;34m=\u001b[0m \u001b[0mob\u001b[0m\u001b[0;34m.\u001b[0m\u001b[0maddTwoNumbers\u001b[0m\u001b[0;34m(\u001b[0m\u001b[0ml1\u001b[0m\u001b[0;34m,\u001b[0m \u001b[0ml2\u001b[0m\u001b[0;34m)\u001b[0m\u001b[0;34m\u001b[0m\u001b[0;34m\u001b[0m\u001b[0m\n\u001b[0m\u001b[1;32m      9\u001b[0m     \u001b[0mprint\u001b[0m\u001b[0;34m(\u001b[0m\u001b[0motv\u001b[0m\u001b[0;34m)\u001b[0m\u001b[0;34m\u001b[0m\u001b[0;34m\u001b[0m\u001b[0m\n\u001b[1;32m     10\u001b[0m     \u001b[0;32mif\u001b[0m \u001b[0motv\u001b[0m \u001b[0;34m==\u001b[0m \u001b[0mexempl\u001b[0m\u001b[0;34m[\u001b[0m\u001b[0;34m'true'\u001b[0m\u001b[0;34m]\u001b[0m\u001b[0;34m:\u001b[0m\u001b[0;34m\u001b[0m\u001b[0;34m\u001b[0m\u001b[0m\n",
      "\u001b[0;32m/tmp/ipykernel_77165/3415576456.py\u001b[0m in \u001b[0;36maddTwoNumbers\u001b[0;34m(self, l1, l2)\u001b[0m\n\u001b[1;32m     17\u001b[0m                 \u001b[0mv2\u001b[0m \u001b[0;34m=\u001b[0m \u001b[0ml2\u001b[0m\u001b[0;34m.\u001b[0m\u001b[0mval\u001b[0m\u001b[0;34m\u001b[0m\u001b[0;34m\u001b[0m\u001b[0m\n\u001b[1;32m     18\u001b[0m                 \u001b[0ml2\u001b[0m \u001b[0;34m=\u001b[0m \u001b[0ml2\u001b[0m\u001b[0;34m.\u001b[0m\u001b[0mnext\u001b[0m\u001b[0;34m\u001b[0m\u001b[0;34m\u001b[0m\u001b[0m\n\u001b[0;32m---> 19\u001b[0;31m             \u001b[0mcarry\u001b[0m\u001b[0;34m,\u001b[0m \u001b[0mval\u001b[0m \u001b[0;34m=\u001b[0m \u001b[0mdivmod\u001b[0m\u001b[0;34m(\u001b[0m\u001b[0mv1\u001b[0m\u001b[0;34m+\u001b[0m\u001b[0mv2\u001b[0m\u001b[0;34m+\u001b[0m\u001b[0mcarry\u001b[0m\u001b[0;34m,\u001b[0m \u001b[0;36m10\u001b[0m\u001b[0;34m)\u001b[0m\u001b[0;34m\u001b[0m\u001b[0;34m\u001b[0m\u001b[0m\n\u001b[0m\u001b[1;32m     20\u001b[0m             \u001b[0mn\u001b[0m\u001b[0;34m.\u001b[0m\u001b[0mnext\u001b[0m \u001b[0;34m=\u001b[0m \u001b[0mListNode\u001b[0m\u001b[0;34m(\u001b[0m\u001b[0mval\u001b[0m\u001b[0;34m)\u001b[0m\u001b[0;34m\u001b[0m\u001b[0;34m\u001b[0m\u001b[0m\n\u001b[1;32m     21\u001b[0m             \u001b[0mn\u001b[0m \u001b[0;34m=\u001b[0m \u001b[0mn\u001b[0m\u001b[0;34m.\u001b[0m\u001b[0mnext\u001b[0m\u001b[0;34m\u001b[0m\u001b[0;34m\u001b[0m\u001b[0m\n",
      "\u001b[0;31mTypeError\u001b[0m: can only concatenate list (not \"int\") to list"
     ]
    }
   ],
   "source": [
    "ob = Solution()\n",
    "for exempl in test_data:\n",
    "    print(exempl['l1'], exempl['l2'])\n",
    "    l1 = ListNode()\n",
    "    l1.val = exempl['l1']\n",
    "    l2 = ListNode()\n",
    "    l2.val = exempl['l2']\n",
    "    otv = ob.addTwoNumbers(l1, l2)\n",
    "    print(otv)\n",
    "    if otv == exempl['true']:\n",
    "        print(True)\n",
    "    else:\n",
    "        print(exempl['true'])\n",
    "        print(False)\n",
    "    print('='*30)"
   ]
  },
  {
   "cell_type": "code",
   "execution_count": 79,
   "id": "6d1db124-ee55-480f-b93c-4a7f9019c36b",
   "metadata": {},
   "outputs": [
    {
     "data": {
      "text/plain": [
       "{'val': [2, 4, 3], 'next': None}"
      ]
     },
     "execution_count": 79,
     "metadata": {},
     "output_type": "execute_result"
    }
   ],
   "source": [
    "l1 = ListNode()\n",
    "l1.val = [2,4,3]\n",
    "l1.__dict__"
   ]
  },
  {
   "cell_type": "markdown",
   "id": "eb8a3d2c-5e95-4fbc-b18b-929b0a6918bd",
   "metadata": {},
   "source": [
    "## 3 . Самая длинная подстрока без повторяющихся символов \n",
    "\n",
    "Учитывая строку s, найдите длину самой длинной подстроки без повторяющихся символов.\n",
    "\n",
    "Пример 1:\n",
    "\n",
    "    Ввод: s = \"abcabcbb\" \n",
    "    Выход: 3 \n",
    "    Пояснение: Ответ - «abc», длина которого равна 3. \n",
    "\n",
    "\n",
    "Пример 2:\n",
    "\n",
    "    Ввод: s = \"bbbbb\" \n",
    "    Выход: 1 \n",
    "    Пояснение: Ответ - «b», длина которого равна 1. \n",
    "\n",
    "\n",
    "Пример 3:\n",
    "\n",
    "    Ввод: s = \"pwwkew\" \n",
    "    Выход: 3 \n",
    "    Пояснение: Ответ - \"wke\", длина которого равна 3. \n",
    "    Обратите внимание, что ответ должен быть подстрокой, «pwke» - это подпоследовательность, а не подстрока. \n",
    "\n",
    "\n",
    "Пример 4:\n",
    "\n",
    "    Ввод: s = \"\" \n",
    "    Выход: 0 \n"
   ]
  },
  {
   "cell_type": "code",
   "execution_count": 154,
   "id": "4db3e89e-816e-4869-b7c5-b943844db9cb",
   "metadata": {},
   "outputs": [],
   "source": [
    "test_data = [\n",
    "            {'s':'abcabcbb', 'true' : 3},\n",
    "            {'s':'bbbbb', 'true' : 1},\n",
    "            {'s':'pwwkew', 'true' : 3},\n",
    "            {'s':'', 'true' : 0},\n",
    "            {'s':'dvdf', 'true' : 3},\n",
    "]"
   ]
  },
  {
   "cell_type": "code",
   "execution_count": 157,
   "id": "d2f150f1-f203-49aa-beda-5e52b5668127",
   "metadata": {},
   "outputs": [],
   "source": [
    "# Мой кривой вариант\n",
    "\n",
    "class Solution:\n",
    "    def lengthOfLongestSubstring(self, s):\n",
    "        max_len = 0\n",
    "        start = 0\n",
    "        simv_dict = {}\n",
    "        for i in range(len(s)):\n",
    "            if s[i] in simv_dict and start <= simv_dict[s[i]]:\n",
    "                start = simv_dict[s[i]]+1\n",
    "            else:\n",
    "                max_len = max(max_len, i - start + 1)\n",
    "            simv_dict[s[i]] = i\n",
    "        return max_len\n",
    "            "
   ]
  },
  {
   "cell_type": "code",
   "execution_count": 158,
   "id": "2bf7d7fe-c248-4cb0-b67a-b1f33ba1b11d",
   "metadata": {},
   "outputs": [
    {
     "name": "stdout",
     "output_type": "stream",
     "text": [
      "abcabcbb\n",
      "Мой ответ:\t 3\n",
      "True\n",
      "==============================\n",
      "bbbbb\n",
      "Мой ответ:\t 1\n",
      "True\n",
      "==============================\n",
      "pwwkew\n",
      "Мой ответ:\t 3\n",
      "True\n",
      "==============================\n",
      "\n",
      "Мой ответ:\t 0\n",
      "True\n",
      "==============================\n",
      "dvdf\n",
      "Мой ответ:\t 3\n",
      "True\n",
      "==============================\n"
     ]
    }
   ],
   "source": [
    "ob = Solution()\n",
    "for exempl in test_data:\n",
    "    print(exempl['s'])\n",
    "    otv = ob.lengthOfLongestSubstring(exempl['s'])\n",
    "    print('Мой ответ:\\t', otv)\n",
    "    if otv != exempl['true']:\n",
    "        print('Верный ответ:\\t', exempl['true'])\n",
    "        print(False)\n",
    "    else:\n",
    "        print(True)\n",
    "    print('='*30)"
   ]
  },
  {
   "cell_type": "markdown",
   "id": "b3ea5464-ae85-4569-86b1-9d8672a6c64f",
   "metadata": {},
   "source": [
    "## 4 . Медиана двух отсортированных массивов \n",
    "\n",
    "Учитывая два отсортированных массива nums1а также nums2размера mа также nсоответственно, вернуть медианное значение двух отсортированных массивов.\n",
    "\n",
    "Общая сложность времени выполнения должна быть O(log (m+n)).\n",
    "\n",
    "\n",
    "\n",
    "Пример 1:\n",
    "\n",
    "    Ввод: nums1 = [1,3], nums2 = [2] \n",
    "    Выход: 2.00000 \n",
    "    Объяснение: объединенный массив = [1,2,3] и медиана равна 2. \n",
    "\n",
    "\n",
    "Пример 2:\n",
    "\n",
    "    Ввод: nums1 = [1,2], nums2 = [3,4] \n",
    "    Выход: 2.50000 \n",
    "    Объяснение: объединенный массив = [1,2,3,4] и медиана (2 + 3) / 2 = 2,5. \n",
    "\n",
    "\n",
    "Пример 3:\n",
    "\n",
    "    Ввод: nums1 = [0,0], nums2 = [0,0] \n",
    "    Выход: 0.00000 \n",
    "\n",
    "\n",
    "Пример 4:\n",
    "\n",
    "    Ввод: nums1 = [], nums2 = [1] \n",
    "    Выход: 1.00000 \n",
    "\n",
    "\n",
    "Пример 5:\n",
    "\n",
    "    Ввод: nums1 = [2], nums2 = [] \n",
    "    Выход: 2.00000 "
   ]
  },
  {
   "cell_type": "code",
   "execution_count": 229,
   "id": "98cd5f89-9618-45f4-8ae0-2403b2220afd",
   "metadata": {},
   "outputs": [],
   "source": [
    "test_data = [\n",
    "            {'nums1':[1,3],'nums2':[2] ,'Output' : 2.0},\n",
    "            {'nums1':[1,2],'nums2':[3,4] ,'Output' : 2.5},\n",
    "            {'nums1':[0,0],'nums2':[0,0] ,'Output' : 0},\n",
    "            {'nums1':[],'nums2':[1] ,'Output' : 1},\n",
    "            {'nums1':[2],'nums2':[] ,'Output' : 2},       \n",
    "]"
   ]
  },
  {
   "cell_type": "code",
   "execution_count": 232,
   "id": "5ccace7a-3585-4090-9266-10e0538db3c2",
   "metadata": {},
   "outputs": [],
   "source": [
    "from collections import Counter\n",
    "\n",
    "class Solution:\n",
    "    def findMedianSortedArrays(self, nums1, nums2):\n",
    "        \n",
    "#     Объединение списков\n",
    "        nums = nums1 + nums2\n",
    "#         сортировка\n",
    "        nums.sort()\n",
    "#         если пустой 0\n",
    "        if len(nums) == 0: return 0\n",
    "#         ечли не четное колчетство найти число в середине\n",
    "        if len(nums) % 2 == 1: \n",
    "            return nums[int((len(nums)-1)/2)]\n",
    "#         иначе среднееоарифмитическое из чисел в середине\n",
    "        else: \n",
    "            return (nums[int(len(nums)/2)-1] + nums[int(len(nums)/2)])/2\n"
   ]
  },
  {
   "cell_type": "code",
   "execution_count": 233,
   "id": "b06b08fe-a505-4c36-a378-5dff003bbf73",
   "metadata": {},
   "outputs": [
    {
     "name": "stdout",
     "output_type": "stream",
     "text": [
      "[1, 3] [2]\n",
      "Мой ответ:\t 2\n",
      "True\n",
      "==============================\n",
      "[1, 2] [3, 4]\n",
      "Мой ответ:\t 2.5\n",
      "True\n",
      "==============================\n",
      "[0, 0] [0, 0]\n",
      "Мой ответ:\t 0.0\n",
      "True\n",
      "==============================\n",
      "[] [1]\n",
      "Мой ответ:\t 1\n",
      "True\n",
      "==============================\n",
      "[2] []\n",
      "Мой ответ:\t 2\n",
      "True\n",
      "==============================\n"
     ]
    }
   ],
   "source": [
    "ob = Solution()\n",
    "for exempl in test_data:\n",
    "    print(exempl['nums1'], exempl['nums2'])\n",
    "    otv = ob.findMedianSortedArrays(exempl['nums1'], exempl['nums2'])\n",
    "    print('Мой ответ:\\t', otv)\n",
    "    if otv != exempl['Output']:\n",
    "        print('Верный ответ:\\t', exempl['Output'])\n",
    "        print(False)\n",
    "    else:\n",
    "        print(True)\n",
    "    print('='*30)"
   ]
  },
  {
   "cell_type": "code",
   "execution_count": null,
   "id": "abed1bbd-520d-431b-9925-104e35be042c",
   "metadata": {},
   "outputs": [],
   "source": []
  }
 ],
 "metadata": {
  "kernelspec": {
   "display_name": "Python 3 (ipykernel)",
   "language": "python",
   "name": "python3"
  },
  "language_info": {
   "codemirror_mode": {
    "name": "ipython",
    "version": 3
   },
   "file_extension": ".py",
   "mimetype": "text/x-python",
   "name": "python",
   "nbconvert_exporter": "python",
   "pygments_lexer": "ipython3",
   "version": "3.8.10"
  }
 },
 "nbformat": 4,
 "nbformat_minor": 5
}
