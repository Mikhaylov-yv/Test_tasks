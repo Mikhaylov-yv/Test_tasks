{
 "cells": [
  {
   "cell_type": "code",
   "execution_count": 118,
   "id": "333688dd-159c-4d11-b24c-80a1a728a63b",
   "metadata": {},
   "outputs": [
    {
     "data": {
      "text/plain": [
       "(1, [2, 3, 4, 5, 6, 7, 8, 9], 10)"
      ]
     },
     "execution_count": 118,
     "metadata": {},
     "output_type": "execute_result"
    }
   ],
   "source": [
    "herst, *bodi, last = [1,2,3,4,5,6,7,8,9,10]\n",
    "herst, bodi, last"
   ]
  },
  {
   "cell_type": "markdown",
   "id": "4b132f0d-c742-443e-ad97-5e7cecae1694",
   "metadata": {},
   "source": [
    "## yield"
   ]
  },
  {
   "cell_type": "code",
   "execution_count": 94,
   "id": "fe3ceb62-f224-48f8-b5f3-b565ebdf1678",
   "metadata": {},
   "outputs": [
    {
     "data": {
      "text/plain": [
       "['2', '4', '6']"
      ]
     },
     "execution_count": 94,
     "metadata": {},
     "output_type": "execute_result"
    }
   ],
   "source": [
    "def use_yield(in_list):\n",
    "    for i in in_list:\n",
    "        if i % 2 == 0: yield str(i)\n",
    "\n",
    "list(use_yield([1,2,3,4,5,6,7]))"
   ]
  },
  {
   "cell_type": "markdown",
   "id": "2425e1f3-e7b7-4d56-a76e-fb709c63c1dd",
   "metadata": {},
   "source": [
    "## Сохраняем историю"
   ]
  },
  {
   "cell_type": "code",
   "execution_count": 51,
   "id": "9dd5876e-c6e2-4bba-a44e-7117a489574a",
   "metadata": {},
   "outputs": [],
   "source": [
    "from collections import deque"
   ]
  },
  {
   "cell_type": "code",
   "execution_count": 65,
   "id": "79f0f677-f57e-45c2-b2fc-873c581e4b44",
   "metadata": {},
   "outputs": [
    {
     "name": "stdout",
     "output_type": "stream",
     "text": [
      "deque(['1'], maxlen=5)\n",
      "deque(['1', '2'], maxlen=5)\n",
      "deque(['1', '2', '3'], maxlen=5)\n",
      "deque(['1', '2', '3', '4'], maxlen=5)\n",
      "deque(['1', '2', '3', '4', '5'], maxlen=5)\n",
      "deque(['2', '3', '4', '5', '6'], maxlen=5)\n",
      "deque(['3', '4', '5', '6', '7'], maxlen=5)\n",
      "deque(['4', '5', '6', '7', '8'], maxlen=5)\n",
      "deque(['5', '6', '7', '8', '9'], maxlen=5)\n",
      "deque(['6', '7', '8', '9', '10'], maxlen=5)\n",
      "deque(['7', '8', '9', '10', '11'], maxlen=5)\n"
     ]
    }
   ],
   "source": [
    "histori = deque(maxlen=5)\n",
    "for i in '1 2 3 4 5 6 7 8 9 10 11'.split():\n",
    "    histori.append(i)\n",
    "    print(histori)\n",
    "    "
   ]
  },
  {
   "cell_type": "code",
   "execution_count": 66,
   "id": "c7bec7e7-74b9-4c92-9f4b-3221b32830fc",
   "metadata": {},
   "outputs": [
    {
     "name": "stdout",
     "output_type": "stream",
     "text": [
      "Keeping a limited history is a perfect use for a `collections.deque`.\n",
      "For example, the following code performs a simple text match on a\n",
      "sequence of lines and prints the matching line along with the previous\n",
      "N lines of context when found:\n",
      "\n",
      "[source,python]\n",
      "--------------------\n",
      "        previous_lines.append(line)\n",
      "\n",
      "# Example use on a file\n",
      "if __name__ == '__main__':\n",
      "    with open('somefile.txt') as f:\n",
      "         search(f, 'python', 5)\n",
      "--------------------\n"
     ]
    }
   ],
   "source": [
    "def search(lines, pattern, history=5):\n",
    "    previous_lines = deque(maxlen=history)\n",
    "    for line in lines:\n",
    "        if pattern in line:\n",
    "            yield line, previous_lines\n",
    "        previous_lines.append(line)\n",
    "\n",
    "if __name__ == '__main__':\n",
    "    with open('somefile.txt') as f:\n",
    "        for line, prevlines in search(f, 'python', 5):\n",
    "            for pline in prevlines:\n",
    "                print(pline, end='')\n",
    "            print(line, end='')\n",
    "            print('-'*20)"
   ]
  },
  {
   "cell_type": "markdown",
   "id": "9bd5ab56-8f8c-4ae5-b0b2-3a132faa4fae",
   "metadata": {},
   "source": [
    "## 1.4. Поиск N максимальных и минимальных элементов\n"
   ]
  },
  {
   "cell_type": "code",
   "execution_count": 68,
   "id": "e305456a-5c63-46c7-aee8-3b793b435fd2",
   "metadata": {},
   "outputs": [
    {
     "data": {
      "text/plain": [
       "([{'name': 'YHOO', 'shares': 45, 'price': 16.35},\n",
       "  {'name': 'FB', 'shares': 200, 'price': 21.09},\n",
       "  {'name': 'HPQ', 'shares': 35, 'price': 31.75}],\n",
       " [{'name': 'AAPL', 'shares': 50, 'price': 543.22},\n",
       "  {'name': 'ACME', 'shares': 75, 'price': 115.65},\n",
       "  {'name': 'IBM', 'shares': 100, 'price': 91.1}])"
      ]
     },
     "execution_count": 68,
     "metadata": {},
     "output_type": "execute_result"
    }
   ],
   "source": [
    "import heapq\n",
    "\n",
    "portfolio = [\n",
    "{'name': 'IBM', 'shares': 100, 'price': 91.1},\n",
    "{'name': 'AAPL', 'shares': 50, 'price': 543.22},\n",
    "{'name': 'FB', 'shares': 200, 'price': 21.09},\n",
    "{'name': 'HPQ', 'shares': 35, 'price': 31.75},\n",
    "{'name': 'YHOO', 'shares': 45, 'price': 16.35},\n",
    "{'name': 'ACME', 'shares': 75, 'price': 115.65}\n",
    "]\n",
    "cheap = heapq.nsmallest(3, portfolio, key=lambda s: s['price'])\n",
    "expensive = heapq.nlargest(3, portfolio, key=lambda s: s['price'])\n",
    "cheap, expensive"
   ]
  },
  {
   "cell_type": "markdown",
   "id": "8c191abb-1a73-4065-8326-0e5fb4c58686",
   "metadata": {},
   "source": [
    "## 1.8. В ычисления со словарями"
   ]
  },
  {
   "cell_type": "code",
   "execution_count": 74,
   "id": "141c25e5-64ae-489e-885b-52f8449464e4",
   "metadata": {},
   "outputs": [
    {
     "data": {
      "text/plain": [
       "{'ACME': 45.23, 'AAPL': 612.78, 'IBM': 205.55, 'HPQ': 37.2, 'FB': 10.75}"
      ]
     },
     "execution_count": 74,
     "metadata": {},
     "output_type": "execute_result"
    }
   ],
   "source": [
    "prices = {\n",
    "'ACME': 45.23,\n",
    "'AAPL': 612.78,\n",
    "'IBM': 205.55,\n",
    "'HPQ': 37.20,\n",
    "'FB': 10.75\n",
    "}\n",
    "prices"
   ]
  },
  {
   "cell_type": "code",
   "execution_count": 76,
   "id": "a56a3588-78b6-40ce-9188-cc3b629bbf3d",
   "metadata": {},
   "outputs": [
    {
     "data": {
      "text/plain": [
       "[(10.75, 'FB'),\n",
       " (37.2, 'HPQ'),\n",
       " (45.23, 'ACME'),\n",
       " (205.55, 'IBM'),\n",
       " (612.78, 'AAPL')]"
      ]
     },
     "execution_count": 76,
     "metadata": {},
     "output_type": "execute_result"
    }
   ],
   "source": [
    "sorted(zip(prices.values(), prices.keys()))"
   ]
  },
  {
   "cell_type": "code",
   "execution_count": 77,
   "id": "0651087e-679c-443d-8d9a-bada0bfea3c0",
   "metadata": {},
   "outputs": [
    {
     "data": {
      "text/plain": [
       "(612.78, 'AAPL')"
      ]
     },
     "execution_count": 77,
     "metadata": {},
     "output_type": "execute_result"
    }
   ],
   "source": [
    "max(zip(prices.values(), prices.keys()))"
   ]
  },
  {
   "cell_type": "code",
   "execution_count": 80,
   "id": "af23ea5a-c82b-4654-ab44-cbd3e18ed26f",
   "metadata": {},
   "outputs": [
    {
     "data": {
      "text/plain": [
       "'FB'"
      ]
     },
     "execution_count": 80,
     "metadata": {},
     "output_type": "execute_result"
    }
   ],
   "source": [
    "min(prices, key=lambda k: prices[k])"
   ]
  },
  {
   "cell_type": "markdown",
   "id": "969f27d5-f9ce-442e-886f-2cafe0761642",
   "metadata": {},
   "source": [
    "## 1.9. П оиск общих элементов в двух словарях"
   ]
  },
  {
   "cell_type": "code",
   "execution_count": 81,
   "id": "7fd9a6f0-8624-4104-9ffd-dd57ed4e5273",
   "metadata": {},
   "outputs": [],
   "source": [
    "a = {\n",
    "'x' : 1,\n",
    "'y' : 2,\n",
    "'z' : 3\n",
    "}\n",
    "b = {\n",
    "'w' : 10,\n",
    "'x' : 11,\n",
    "'y' : 2\n",
    "}"
   ]
  },
  {
   "cell_type": "code",
   "execution_count": 83,
   "id": "21b48a34-1300-4b6e-8193-dc419acf19cd",
   "metadata": {},
   "outputs": [
    {
     "name": "stdout",
     "output_type": "stream",
     "text": [
      "{'y', 'x'}\n",
      "{'z'}\n",
      "{('y', 2)}\n"
     ]
    }
   ],
   "source": [
    "# Находим общие ключи\n",
    "print(a.keys() & b.keys()) # { 'x', 'y' }\n",
    "# Находим ключи, которые есть в a, но которых нет в b\n",
    "print(a.keys() - b.keys()) # { 'z' }\n",
    "# Находим общие пары (key,value)\n",
    "print(a.items() & b.items()) # { ('y', 2) }"
   ]
  },
  {
   "cell_type": "code",
   "execution_count": 86,
   "id": "44991bc0-6b7d-43a9-821b-965369c76e5b",
   "metadata": {},
   "outputs": [
    {
     "data": {
      "text/plain": [
       "{'y': 2, 'x': 1}"
      ]
     },
     "execution_count": 86,
     "metadata": {},
     "output_type": "execute_result"
    }
   ],
   "source": [
    "# Создаем новый словарь, из которого удалены некоторые ключи\n",
    "c = {key:a[key] for key in a.keys() - {'z', 'w'}}\n",
    "c"
   ]
  },
  {
   "cell_type": "markdown",
   "id": "000c5922-8fc6-4c11-9996-f25eef821875",
   "metadata": {},
   "source": [
    "## 1.10. У даление дубликатов из последовательности с сохранением порядка \u0003 элементов"
   ]
  },
  {
   "cell_type": "code",
   "execution_count": 91,
   "id": "a47d9f4f-fe8a-4fd6-bab5-9f27f850359f",
   "metadata": {},
   "outputs": [
    {
     "data": {
      "text/plain": [
       "[1, 5, 2, 9, 10]"
      ]
     },
     "execution_count": 91,
     "metadata": {},
     "output_type": "execute_result"
    }
   ],
   "source": [
    "def dedupe(items):\n",
    "    seen = set()\n",
    "    for item in items:\n",
    "        if item not in seen:\n",
    "            yield item\n",
    "            seen.add(item)\n",
    "    \n",
    "a = [1, 5, 2, 1, 9, 1, 5, 10]\n",
    "list(dedupe(a))"
   ]
  },
  {
   "cell_type": "code",
   "execution_count": 102,
   "id": "7eca24b3-826c-4e9e-8a80-092605f4f890",
   "metadata": {},
   "outputs": [
    {
     "name": "stdout",
     "output_type": "stream",
     "text": [
      "{'x': 1, 'y': 2}\n",
      "{'x': 1, 'y': 3}\n",
      "{'x': 1, 'y': 2}\n",
      "{'x': 2, 'y': 4}\n"
     ]
    },
    {
     "data": {
      "text/plain": [
       "[{'x': 1, 'y': 2}, {'x': 1, 'y': 3}, {'x': 2, 'y': 4}]"
      ]
     },
     "execution_count": 102,
     "metadata": {},
     "output_type": "execute_result"
    }
   ],
   "source": [
    "def dedupe(items, key=None):\n",
    "    seen = set()\n",
    "    for item in items:\n",
    "        print(item)\n",
    "        val = item if key is None else key(item)\n",
    "        if val not in seen:\n",
    "            yield item\n",
    "            seen.add(val)\n",
    "        \n",
    "a = [ {'x':1, 'y':2}, {'x':1, 'y':3}, {'x':1, 'y':2}, {'x':2, 'y':4}]\n",
    "list(dedupe(a, key=lambda d: (d['y'], d['x'])))"
   ]
  },
  {
   "cell_type": "markdown",
   "id": "2feb947b-f4bf-4e6b-818f-1b12a0d30203",
   "metadata": {},
   "source": [
    "## 1.11. П рисваивание имен срезам"
   ]
  },
  {
   "cell_type": "code",
   "execution_count": 108,
   "id": "c9f18165-f150-4306-806a-242d76e9b4a1",
   "metadata": {},
   "outputs": [
    {
     "data": {
      "text/plain": [
       "('048', '01234567')"
      ]
     },
     "execution_count": 108,
     "metadata": {},
     "output_type": "execute_result"
    }
   ],
   "source": [
    "in_str = '0123456789012345678901234567890123456789012345678901234567890'\n",
    "SHARES = slice(20,32, 4)\n",
    "PRICE = slice(40,48)\n",
    "in_str[SHARES], in_str[PRICE]"
   ]
  },
  {
   "cell_type": "code",
   "execution_count": 117,
   "id": "d7a6b798-4013-4c95-a2f5-ced3e866a862",
   "metadata": {},
   "outputs": [
    {
     "name": "stdout",
     "output_type": "stream",
     "text": [
      "W\n",
      "r\n",
      "d\n"
     ]
    }
   ],
   "source": [
    "a = slice(5, 50, 2)\n",
    "s = 'HelloWorld'\n",
    "# a.indices(len(s))\n",
    "# print(a)\n",
    "for i in range(*a.indices(len(s))):\n",
    "    print(s[i])"
   ]
  },
  {
   "cell_type": "markdown",
   "id": "17c59ba8-8882-4c47-a9ee-7240ad06d565",
   "metadata": {},
   "source": [
    "## 1.12. О пределение наиболее часто встречающихся элементов в последовательности\n",
    "\n",
    "У вас есть последовательность элементов, и вы хотите узнать, какие элементы\n",
    "встречаются в ней чаще всего."
   ]
  },
  {
   "cell_type": "code",
   "execution_count": 122,
   "id": "4def5c0b-b61a-4112-9e17-f1f4a84ec933",
   "metadata": {},
   "outputs": [
    {
     "name": "stdout",
     "output_type": "stream",
     "text": [
      "[('eyes', 8), ('the', 5), ('look', 4)]\n",
      "1\n"
     ]
    }
   ],
   "source": [
    "from collections import Counter\n",
    "\n",
    "words = [\n",
    "'look', 'into', 'my', 'eyes', 'look', 'into', 'my', 'eyes',\n",
    "'the', 'eyes', 'the', 'eyes', 'the', 'eyes', 'not', 'around', 'the',\n",
    "'eyes', \"don't\", 'look', 'around', 'the', 'eyes', 'look', 'into',\n",
    "'my', 'eyes', \"you're\", 'under'\n",
    "]\n",
    "morewords = ['why','are','you','not','looking','in','my','eyes']\n",
    "\n",
    "word_counts = Counter(words)\n",
    "top_three = word_counts.most_common(3)\n",
    "print(top_three)\n",
    "print(word_counts['not'])"
   ]
  },
  {
   "cell_type": "code",
   "execution_count": 124,
   "id": "e5167715-5497-4507-93e4-d83d132c956c",
   "metadata": {},
   "outputs": [
    {
     "name": "stdout",
     "output_type": "stream",
     "text": [
      "Counter({'eyes': 9, 'the': 5, 'look': 4, 'my': 4, 'into': 3, 'not': 2, 'around': 2, \"don't\": 1, \"you're\": 1, 'under': 1, 'why': 1, 'are': 1, 'you': 1, 'looking': 1, 'in': 1})\n"
     ]
    }
   ],
   "source": [
    "a = Counter(words)\n",
    "b = Counter(morewords)\n",
    "c = a + b\n",
    "print(c)"
   ]
  },
  {
   "cell_type": "markdown",
   "id": "d3447bef-ecc7-4b44-9e37-b416d568ebc2",
   "metadata": {},
   "source": [
    "## 1.13. С ортировка списка словарей по общему ключу\n",
    "\n",
    "У вас есть список словарей, и вы хотите отсортировать записи согласно одному\n",
    "или более значениям."
   ]
  },
  {
   "cell_type": "code",
   "execution_count": 125,
   "id": "ad2f59c8-260b-4e8e-97f8-5db1fd825f0d",
   "metadata": {},
   "outputs": [
    {
     "name": "stdout",
     "output_type": "stream",
     "text": [
      "[{'fname': 'Big', 'lname': 'Jones', 'uid': 1004}, {'fname': 'Brian', 'lname': 'Jones', 'uid': 1003}, {'fname': 'David', 'lname': 'Beazley', 'uid': 1002}, {'fname': 'John', 'lname': 'Cleese', 'uid': 1001}]\n",
      "[{'fname': 'John', 'lname': 'Cleese', 'uid': 1001}, {'fname': 'David', 'lname': 'Beazley', 'uid': 1002}, {'fname': 'Brian', 'lname': 'Jones', 'uid': 1003}, {'fname': 'Big', 'lname': 'Jones', 'uid': 1004}]\n"
     ]
    }
   ],
   "source": [
    "from operator import itemgetter\n",
    "\n",
    "rows = [\n",
    "{'fname':'Brian', 'lname': 'Jones', 'uid': 1003},\n",
    "{'fname':'David', 'lname': 'Beazley', 'uid': 1002},\n",
    "{'fname':'John', 'lname': 'Cleese', 'uid': 1001},\n",
    "{'fname':'Big', 'lname': 'Jones', 'uid': 1004}\n",
    "]\n",
    "\n",
    "rows_by_fname = sorted(rows, key=itemgetter('fname'))\n",
    "rows_by_uid = sorted(rows, key=itemgetter('uid'))\n",
    "\n",
    "print(rows_by_fname)\n",
    "print(rows_by_uid)"
   ]
  },
  {
   "cell_type": "code",
   "execution_count": null,
   "id": "3a374940-320b-4b55-95c6-84e91e21ab47",
   "metadata": {},
   "outputs": [],
   "source": []
  }
 ],
 "metadata": {
  "kernelspec": {
   "display_name": "Python 3 (ipykernel)",
   "language": "python",
   "name": "python3"
  },
  "language_info": {
   "codemirror_mode": {
    "name": "ipython",
    "version": 3
   },
   "file_extension": ".py",
   "mimetype": "text/x-python",
   "name": "python",
   "nbconvert_exporter": "python",
   "pygments_lexer": "ipython3",
   "version": "3.8.10"
  }
 },
 "nbformat": 4,
 "nbformat_minor": 5
}
