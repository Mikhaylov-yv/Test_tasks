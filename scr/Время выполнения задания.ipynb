{
 "cells": [
  {
   "cell_type": "code",
   "execution_count": 1,
   "id": "c9690dd7-f800-4a48-a6ab-a570f4d12353",
   "metadata": {},
   "outputs": [],
   "source": [
    "import pandas as pd\n",
    "import numpy as np\n",
    "import matplotlib.pyplot as plt\n",
    "import seaborn as sns\n",
    "\n",
    "from sklearn.metrics import accuracy_score\n",
    "from sklearn.metrics import f1_score"
   ]
  },
  {
   "cell_type": "markdown",
   "id": "57357911-350f-44d8-8cb9-156987d42647",
   "metadata": {},
   "source": [
    "# Задание\n",
    "\n",
    "\n",
    "Имеется [файл](https://yadi.sk/d/EPeQsxoS3L33a8) с различными оценками асессоров.\n",
    "\n",
    "Формат файла: login tuid docid jud cjud.\n",
    "\n",
    "Пояснение к формату: \n",
    "* login — логин асессора; \n",
    "* uid — id асессора (user id); \n",
    "* docid — id оцениваемого документа (document id); \n",
    "* jud — оценка асессора (judgement); \n",
    "* cjud — правильная оценка (correct judgement); \n",
    "* разделитель — табуляция \\t.\n",
    "\n",
    "Оценки могут принимать значение [0, 1], т.е. задание, которое сделали асессоры, имеет бинарную шкалу.\n",
    "\n",
    "Используя данные об оценках, установите, какие асессоры хуже всего справились с заданием. На какие показатели вы ориентировались и какие метрики вы использовали для ответа на этот вопрос? Можно ли предложить какие-то новые метрики для подсчета качества асессоров с учетом природы оценок у этого бинарного задания?\n",
    "\n",
    "Опишите подробно все этапы вашего решения.\n"
   ]
  },
  {
   "cell_type": "markdown",
   "id": "2a615652-e7c2-4045-ad26-8b7ab30257de",
   "metadata": {},
   "source": [
    "## Загрузка данных"
   ]
  },
  {
   "cell_type": "code",
   "execution_count": 2,
   "id": "15261976-1a1b-4b6d-8135-7701eb699156",
   "metadata": {},
   "outputs": [
    {
     "data": {
      "text/html": [
       "<div>\n",
       "<style scoped>\n",
       "    .dataframe tbody tr th:only-of-type {\n",
       "        vertical-align: middle;\n",
       "    }\n",
       "\n",
       "    .dataframe tbody tr th {\n",
       "        vertical-align: top;\n",
       "    }\n",
       "\n",
       "    .dataframe thead th {\n",
       "        text-align: right;\n",
       "    }\n",
       "</style>\n",
       "<table border=\"1\" class=\"dataframe\">\n",
       "  <thead>\n",
       "    <tr style=\"text-align: right;\">\n",
       "      <th></th>\n",
       "      <th>login</th>\n",
       "      <th>uid</th>\n",
       "      <th>docid</th>\n",
       "      <th>jud</th>\n",
       "      <th>cjud</th>\n",
       "    </tr>\n",
       "  </thead>\n",
       "  <tbody>\n",
       "    <tr>\n",
       "      <th>0</th>\n",
       "      <td>assessor158</td>\n",
       "      <td>158</td>\n",
       "      <td>0</td>\n",
       "      <td>0</td>\n",
       "      <td>0</td>\n",
       "    </tr>\n",
       "    <tr>\n",
       "      <th>1</th>\n",
       "      <td>assessor238</td>\n",
       "      <td>238</td>\n",
       "      <td>0</td>\n",
       "      <td>0</td>\n",
       "      <td>0</td>\n",
       "    </tr>\n",
       "    <tr>\n",
       "      <th>2</th>\n",
       "      <td>assessor488</td>\n",
       "      <td>488</td>\n",
       "      <td>0</td>\n",
       "      <td>0</td>\n",
       "      <td>0</td>\n",
       "    </tr>\n",
       "    <tr>\n",
       "      <th>3</th>\n",
       "      <td>assessor136</td>\n",
       "      <td>136</td>\n",
       "      <td>0</td>\n",
       "      <td>0</td>\n",
       "      <td>0</td>\n",
       "    </tr>\n",
       "    <tr>\n",
       "      <th>4</th>\n",
       "      <td>assessor300</td>\n",
       "      <td>300</td>\n",
       "      <td>0</td>\n",
       "      <td>0</td>\n",
       "      <td>0</td>\n",
       "    </tr>\n",
       "    <tr>\n",
       "      <th>...</th>\n",
       "      <td>...</td>\n",
       "      <td>...</td>\n",
       "      <td>...</td>\n",
       "      <td>...</td>\n",
       "      <td>...</td>\n",
       "    </tr>\n",
       "    <tr>\n",
       "      <th>249995</th>\n",
       "      <td>assessor208</td>\n",
       "      <td>208</td>\n",
       "      <td>49999</td>\n",
       "      <td>1</td>\n",
       "      <td>1</td>\n",
       "    </tr>\n",
       "    <tr>\n",
       "      <th>249996</th>\n",
       "      <td>assessor139</td>\n",
       "      <td>139</td>\n",
       "      <td>49999</td>\n",
       "      <td>1</td>\n",
       "      <td>1</td>\n",
       "    </tr>\n",
       "    <tr>\n",
       "      <th>249997</th>\n",
       "      <td>assessor333</td>\n",
       "      <td>333</td>\n",
       "      <td>49999</td>\n",
       "      <td>1</td>\n",
       "      <td>1</td>\n",
       "    </tr>\n",
       "    <tr>\n",
       "      <th>249998</th>\n",
       "      <td>assessor160</td>\n",
       "      <td>160</td>\n",
       "      <td>49999</td>\n",
       "      <td>1</td>\n",
       "      <td>1</td>\n",
       "    </tr>\n",
       "    <tr>\n",
       "      <th>249999</th>\n",
       "      <td>assessor175</td>\n",
       "      <td>175</td>\n",
       "      <td>49999</td>\n",
       "      <td>1</td>\n",
       "      <td>1</td>\n",
       "    </tr>\n",
       "  </tbody>\n",
       "</table>\n",
       "<p>250000 rows × 5 columns</p>\n",
       "</div>"
      ],
      "text/plain": [
       "              login  uid  docid  jud  cjud\n",
       "0       assessor158  158      0    0     0\n",
       "1       assessor238  238      0    0     0\n",
       "2       assessor488  488      0    0     0\n",
       "3       assessor136  136      0    0     0\n",
       "4       assessor300  300      0    0     0\n",
       "...             ...  ...    ...  ...   ...\n",
       "249995  assessor208  208  49999    1     1\n",
       "249996  assessor139  139  49999    1     1\n",
       "249997  assessor333  333  49999    1     1\n",
       "249998  assessor160  160  49999    1     1\n",
       "249999  assessor175  175  49999    1     1\n",
       "\n",
       "[250000 rows x 5 columns]"
      ]
     },
     "execution_count": 2,
     "metadata": {},
     "output_type": "execute_result"
    }
   ],
   "source": [
    "df_in = pd.read_csv('../data/data_task3.csv', \n",
    "                    sep = '\\t', \n",
    "#                     parse_dates = ['assigned_ts','closed_ts']\n",
    "                   )\n",
    "df_in"
   ]
  },
  {
   "cell_type": "code",
   "execution_count": 3,
   "id": "f521a4a7-afa3-40d8-a26e-fda588dc319f",
   "metadata": {},
   "outputs": [
    {
     "data": {
      "text/plain": [
       "0    88.008\n",
       "1    11.992\n",
       "Name: cjud, dtype: float64"
      ]
     },
     "execution_count": 3,
     "metadata": {},
     "output_type": "execute_result"
    }
   ],
   "source": [
    "# Распределение % значений в столбце правильных ответов\n",
    "df_in['cjud'].value_counts() / df_in['cjud'].shape[0] * 100"
   ]
  },
  {
   "cell_type": "markdown",
   "id": "44e3b37d-9137-4a0e-9244-10fd11f2e03c",
   "metadata": {},
   "source": [
    "## Матрица ответов асессоров\n",
    "\n",
    "Из распределения значений в столбце 'cjud' мы видим явный дисбаланс в сторону значений \"0\"\n",
    "Теперь строим матрицу ошибок для понимая их харрактера."
   ]
  },
  {
   "cell_type": "code",
   "execution_count": 4,
   "id": "f82ee150-9963-46a8-a4d0-784ec7f77693",
   "metadata": {},
   "outputs": [
    {
     "data": {
      "image/png": "[encoded data removed]",
      "text/plain": [
       "<Figure size 504x504 with 1 Axes>"
      ]
     },
     "metadata": {
      "needs_background": "light"
     },
     "output_type": "display_data"
    }
   ],
   "source": [
    "fig, ax = plt.subplots(figsize=(7,7))\n",
    "df_matr = df_in[['jud', 'cjud']].value_counts().sort_index().unstack()\n",
    "yticks = str(df_matr.index.name)\n",
    "xticks = str(df_matr.columns.name)\n",
    "# ax.set_xlabel(xticks)\n",
    "# ax.set_ylabel(yticks)\n",
    "ax.set_xlabel('Правильная оценка (correct judgement)')\n",
    "ax.set_ylabel('Оценка асессора (judgement)')\n",
    "\n",
    "im = ax.matshow(df_matr)\n",
    "for i in range(len(df_matr.values)):\n",
    "    for j in range(len(df_matr.values)):\n",
    "        text = ax.text(j, i, str(round(df_matr.values[i, j] / df_in.shape[0] * 100)) + '%',\n",
    "                       ha=\"center\", va=\"center\",size = 50, color=(.6,.6,.6))\n",
    "plt.show()"
   ]
  },
  {
   "cell_type": "markdown",
   "id": "a8f06c54-3604-4491-adb6-fdc2c3023e6c",
   "metadata": {},
   "source": [
    "Из данных явно видно что ценность успешного ответа на вопрос правильный ответ на который будет **1** ценнее нежени нежели те, где правильный ответ **0**\n",
    "\n",
    "Для оценки ассоров в данном случае лучше всего подойдет метрика оценки **F1**"
   ]
  },
  {
   "cell_type": "code",
   "execution_count": 5,
   "id": "94d6561e-9f39-4456-8516-57f02276eb9f",
   "metadata": {},
   "outputs": [
    {
     "name": "stdout",
     "output_type": "stream",
     "text": [
      "Количество уникальных пользователей:  600\n"
     ]
    }
   ],
   "source": [
    "print('Количество уникальных пользователей: ', df_in.uid.unique().shape[0])"
   ]
  },
  {
   "cell_type": "markdown",
   "id": "b3ec10f2-d929-4224-8b26-49d189a275c9",
   "metadata": {},
   "source": [
    "## Рейтинг пользователе\n",
    "\n",
    "Выводим 5 пользователей с лучшей оценкой и 5 с худшей"
   ]
  },
  {
   "cell_type": "code",
   "execution_count": 6,
   "id": "08f5b4be-c865-4fa7-8326-c2f61739bac9",
   "metadata": {},
   "outputs": [
    {
     "data": {
      "text/html": [
       "<div>\n",
       "<style scoped>\n",
       "    .dataframe tbody tr th:only-of-type {\n",
       "        vertical-align: middle;\n",
       "    }\n",
       "\n",
       "    .dataframe tbody tr th {\n",
       "        vertical-align: top;\n",
       "    }\n",
       "\n",
       "    .dataframe thead th {\n",
       "        text-align: right;\n",
       "    }\n",
       "</style>\n",
       "<table border=\"1\" class=\"dataframe\">\n",
       "  <thead>\n",
       "    <tr style=\"text-align: right;\">\n",
       "      <th></th>\n",
       "      <th>accuracy_score</th>\n",
       "      <th>f1_score</th>\n",
       "      <th>Count</th>\n",
       "    </tr>\n",
       "  </thead>\n",
       "  <tbody>\n",
       "    <tr>\n",
       "      <th>82</th>\n",
       "      <td>0.913151</td>\n",
       "      <td>0.751773</td>\n",
       "      <td>403.0</td>\n",
       "    </tr>\n",
       "    <tr>\n",
       "      <th>259</th>\n",
       "      <td>0.909976</td>\n",
       "      <td>0.751678</td>\n",
       "      <td>411.0</td>\n",
       "    </tr>\n",
       "    <tr>\n",
       "      <th>487</th>\n",
       "      <td>0.904535</td>\n",
       "      <td>0.750000</td>\n",
       "      <td>419.0</td>\n",
       "    </tr>\n",
       "    <tr>\n",
       "      <th>151</th>\n",
       "      <td>0.919048</td>\n",
       "      <td>0.742424</td>\n",
       "      <td>420.0</td>\n",
       "    </tr>\n",
       "    <tr>\n",
       "      <th>577</th>\n",
       "      <td>0.912530</td>\n",
       "      <td>0.741259</td>\n",
       "      <td>423.0</td>\n",
       "    </tr>\n",
       "    <tr>\n",
       "      <th>...</th>\n",
       "      <td>...</td>\n",
       "      <td>...</td>\n",
       "      <td>...</td>\n",
       "    </tr>\n",
       "    <tr>\n",
       "      <th>390</th>\n",
       "      <td>0.480583</td>\n",
       "      <td>0.207407</td>\n",
       "      <td>412.0</td>\n",
       "    </tr>\n",
       "    <tr>\n",
       "      <th>118</th>\n",
       "      <td>0.475703</td>\n",
       "      <td>0.189723</td>\n",
       "      <td>391.0</td>\n",
       "    </tr>\n",
       "    <tr>\n",
       "      <th>3</th>\n",
       "      <td>0.460094</td>\n",
       "      <td>0.178571</td>\n",
       "      <td>426.0</td>\n",
       "    </tr>\n",
       "    <tr>\n",
       "      <th>56</th>\n",
       "      <td>0.425791</td>\n",
       "      <td>0.163121</td>\n",
       "      <td>411.0</td>\n",
       "    </tr>\n",
       "    <tr>\n",
       "      <th>163</th>\n",
       "      <td>0.827068</td>\n",
       "      <td>0.103896</td>\n",
       "      <td>399.0</td>\n",
       "    </tr>\n",
       "  </tbody>\n",
       "</table>\n",
       "<p>600 rows × 3 columns</p>\n",
       "</div>"
      ],
      "text/plain": [
       "     accuracy_score  f1_score  Count\n",
       "82         0.913151  0.751773  403.0\n",
       "259        0.909976  0.751678  411.0\n",
       "487        0.904535  0.750000  419.0\n",
       "151        0.919048  0.742424  420.0\n",
       "577        0.912530  0.741259  423.0\n",
       "..              ...       ...    ...\n",
       "390        0.480583  0.207407  412.0\n",
       "118        0.475703  0.189723  391.0\n",
       "3          0.460094  0.178571  426.0\n",
       "56         0.425791  0.163121  411.0\n",
       "163        0.827068  0.103896  399.0\n",
       "\n",
       "[600 rows x 3 columns]"
      ]
     },
     "execution_count": 6,
     "metadata": {},
     "output_type": "execute_result"
    }
   ],
   "source": [
    "def assessors_rating(df):\n",
    "    df_users = pd.DataFrame(index = df.uid.sort_values().unique())\n",
    "    for uid in df_users.index:\n",
    "        jud = df.loc[df['uid'] == uid, 'jud'] # Оценка ассесора\n",
    "        cjud = df.loc[df['uid'] == uid, 'cjud'] # Верная оценка\n",
    "        df_users.loc[uid, 'accuracy_score'] = accuracy_score(jud, cjud) # Простой процент правильных ответов\n",
    "        df_users.loc[uid, 'f1_score'] = f1_score(jud, cjud) # f1 метрика полнота + качество\n",
    "        df_users.loc[uid, 'Count'] = df.loc[df['uid'] == uid, 'uid'].count()\n",
    "    #     break\n",
    "    return df_users.sort_values('f1_score', ascending = False)\n",
    "assessors_rating(df_in)"
   ]
  },
  {
   "cell_type": "markdown",
   "id": "a7ffd3ed-50dd-4179-982e-b185b931b83c",
   "metadata": {},
   "source": [
    "## Сложность заданий\n",
    "\n",
    "Поскольку наша задача заключается в сравнительной оценке ассоров.\n",
    "Для более точной оценки лучше исключить из выбрки те задания на которые все ассоры ответили верно или ошиблись.\n"
   ]
  },
  {
   "cell_type": "code",
   "execution_count": 7,
   "id": "5d44dafd-69a1-43f6-b600-05a51cb86a1c",
   "metadata": {
    "tags": []
   },
   "outputs": [
    {
     "ename": "NameError",
     "evalue": "name 'df' is not defined",
     "output_type": "error",
     "traceback": [
      "\u001b[0;31m---------------------------------------------------------------------------\u001b[0m",
      "\u001b[0;31mNameError\u001b[0m                                 Traceback (most recent call last)",
      "\u001b[0;32m/tmp/ipykernel_8580/1130007416.py\u001b[0m in \u001b[0;36m<module>\u001b[0;34m\u001b[0m\n\u001b[0;32m----> 1\u001b[0;31m \u001b[0mdf_docid\u001b[0m \u001b[0;34m=\u001b[0m \u001b[0mdf\u001b[0m\u001b[0;34m[\u001b[0m\u001b[0;34m[\u001b[0m\u001b[0;34m'docid'\u001b[0m\u001b[0;34m,\u001b[0m \u001b[0;34m'quality'\u001b[0m\u001b[0;34m]\u001b[0m\u001b[0;34m]\u001b[0m\u001b[0;34m.\u001b[0m\u001b[0mgroupby\u001b[0m\u001b[0;34m(\u001b[0m\u001b[0;34m[\u001b[0m\u001b[0;34m'docid'\u001b[0m\u001b[0;34m]\u001b[0m\u001b[0;34m)\u001b[0m\u001b[0;34m.\u001b[0m\u001b[0mmean\u001b[0m\u001b[0;34m(\u001b[0m\u001b[0;34m)\u001b[0m\u001b[0;34m.\u001b[0m\u001b[0msort_values\u001b[0m\u001b[0;34m(\u001b[0m\u001b[0;34m'quality'\u001b[0m\u001b[0;34m)\u001b[0m\u001b[0;34m\u001b[0m\u001b[0;34m\u001b[0m\u001b[0m\n\u001b[0m\u001b[1;32m      2\u001b[0m \u001b[0mdocid_list\u001b[0m \u001b[0;34m=\u001b[0m \u001b[0mdf_docid\u001b[0m\u001b[0;34m[\u001b[0m\u001b[0;34m(\u001b[0m\u001b[0mdf_docid\u001b[0m\u001b[0;34m[\u001b[0m\u001b[0;34m'quality'\u001b[0m\u001b[0;34m]\u001b[0m \u001b[0;34m>\u001b[0m \u001b[0;36m0\u001b[0m\u001b[0;34m)\u001b[0m\u001b[0;34m&\u001b[0m\u001b[0;34m(\u001b[0m\u001b[0mdf_docid\u001b[0m\u001b[0;34m[\u001b[0m\u001b[0;34m'quality'\u001b[0m\u001b[0;34m]\u001b[0m \u001b[0;34m<\u001b[0m \u001b[0;36m1\u001b[0m\u001b[0;34m)\u001b[0m\u001b[0;34m]\u001b[0m\u001b[0;34m.\u001b[0m\u001b[0mindex\u001b[0m\u001b[0;34m\u001b[0m\u001b[0;34m\u001b[0m\u001b[0m\n\u001b[1;32m      3\u001b[0m \u001b[0mdf_docid\u001b[0m\u001b[0;34m.\u001b[0m\u001b[0mplot\u001b[0m\u001b[0;34m.\u001b[0m\u001b[0mhist\u001b[0m\u001b[0;34m(\u001b[0m\u001b[0;34m)\u001b[0m\u001b[0;34m\u001b[0m\u001b[0;34m\u001b[0m\u001b[0m\n",
      "\u001b[0;31mNameError\u001b[0m: name 'df' is not defined"
     ]
    }
   ],
   "source": [
    "df_docid = df[['docid', 'quality']].groupby(['docid']).mean().sort_values('quality')\n",
    "docid_list = df_docid[(df_docid['quality'] > 0)&(df_docid['quality'] < 1)].index\n",
    "df_docid.plot.hist()"
   ]
  },
  {
   "cell_type": "code",
   "execution_count": null,
   "id": "25f8767b-cc2b-4c32-865f-58e56c4be0a4",
   "metadata": {
    "tags": []
   },
   "outputs": [],
   "source": [
    "df_users = assessors_rating(df[df['docid'].isin(docid_list)])\n",
    "df_users"
   ]
  },
  {
   "cell_type": "code",
   "execution_count": null,
   "id": "1f40592b-4b74-4f7b-afed-80fa3f1e091a",
   "metadata": {},
   "outputs": [],
   "source": [
    "# Проверка на наличие пропущщенных значений\n",
    "df_users.isna().sum()"
   ]
  }
 ],
 "metadata": {
  "kernelspec": {
   "display_name": "Python 3 (ipykernel)",
   "language": "python",
   "name": "python3"
  },
  "language_info": {
   "codemirror_mode": {
    "name": "ipython",
    "version": 3
   },
   "file_extension": ".py",
   "mimetype": "text/x-python",
   "name": "python",
   "nbconvert_exporter": "python",
   "pygments_lexer": "ipython3",
   "version": "3.8.10"
  }
 },
 "nbformat": 4,
 "nbformat_minor": 5
}
