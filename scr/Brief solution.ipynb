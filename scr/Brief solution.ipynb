{
 "cells": [
  {
   "cell_type": "code",
   "execution_count": 4,
   "id": "2a5da943-493b-46dd-b8bf-148ae7f9b216",
   "metadata": {},
   "outputs": [],
   "source": [
    "import pandas as pd\n",
    "import numpy as np\n",
    "import math\n",
    "import matplotlib.pyplot as plt\n",
    "import seaborn as sns\n",
    "\n",
    "from scipy.ndimage import gaussian_filter1d"
   ]
  },
  {
   "cell_type": "markdown",
   "id": "3b6b226c-c5e9-4775-b456-4a04e858079a",
   "metadata": {},
   "source": [
    "# Задание №1"
   ]
  },
  {
   "cell_type": "code",
   "execution_count": 9,
   "id": "74ad5ece-7b41-43ba-967d-36a1e86f6aeb",
   "metadata": {},
   "outputs": [
    {
     "name": "stdout",
     "output_type": "stream",
     "text": [
      "1.2 * N\n"
     ]
    }
   ],
   "source": [
    "df_in = pd.read_csv('../data/data_task4_old.txt', sep = '\\t', parse_dates = ['assigned_ts','closed_ts'])\n",
    "def data_prep(df):\n",
    "    df['delta_dt'] = (df['closed_ts'] - df['assigned_ts'])\n",
    "    df['delta'] = df['delta_dt'] / pd.Timedelta('1 second')\n",
    "    df['delta_for_one'] = round(df['delta'] / df['Microtasks'], 0)\n",
    "    df['delta_for_one_dt'] = (df['delta_dt'] / df['Microtasks']).dt.round('S')\n",
    "    return df\n",
    "df = data_prep(df_in)\n",
    "# Исключаем данные в кторых время выполнения оказалось меньше 0 \n",
    "df = df[df['delta'] > 0]\n",
    "top_quantile = .9998 # Явные выбросы\n",
    "df = df[df['delta_for_one'] < df['delta_for_one'].quantile(top_quantile)] # Удаляем выбросы\n",
    "delt = df.loc[: , 'delta_for_one']\n",
    "x_max = 600\n",
    "alfa = 3\n",
    "hist_1 = gaussian_filter1d(np.histogram(delt[df['Microtasks'] == 1], bins = range(x_max))[0], alfa)\n",
    "round_step = 5 \n",
    "fair_delta = round_step * math.ceil(np.argmax(hist_1)/round_step)\n",
    "print(round(fair_delta / 30, 1), '* N')"
   ]
  },
  {
   "cell_type": "code",
   "execution_count": null,
   "id": "3972cbb6-fb3b-46a3-9a99-d92bb2f62c0e",
   "metadata": {},
   "outputs": [],
   "source": []
  }
 ],
 "metadata": {
  "kernelspec": {
   "display_name": "Python 3 (ipykernel)",
   "language": "python",
   "name": "python3"
  },
  "language_info": {
   "codemirror_mode": {
    "name": "ipython",
    "version": 3
   },
   "file_extension": ".py",
   "mimetype": "text/x-python",
   "name": "python",
   "nbconvert_exporter": "python",
   "pygments_lexer": "ipython3",
   "version": "3.8.10"
  }
 },
 "nbformat": 4,
 "nbformat_minor": 5
}
